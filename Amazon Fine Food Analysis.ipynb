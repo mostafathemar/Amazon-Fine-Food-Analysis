{
 "cells": [
  {
   "cell_type": "markdown",
   "id": "5b28b24a-33e2-4be8-9ace-779082df70e7",
   "metadata": {},
   "source": [
    "# Amazon Fine Food Reviews Analysis\n",
    "\n",
    "\n",
    "Data Source: https://www.kaggle.com/snap/amazon-fine-food-reviews <br>\n",
    "\n",
    "\n",
    "The Amazon Fine Food Reviews dataset consists of reviews of fine foods from Amazon.<br>\n",
    "\n",
    "Number of reviews: 568,454<br>\n",
    "Number of users: 256,059<br>\n",
    "Number of products: 74,258<br>\n",
    "Timespan: Oct 1999 - Oct 2012<br>\n",
    "Number of Attributes/Columns in data: 10 \n",
    "\n",
    "Attribute Information:\n",
    "\n",
    "1. Id\n",
    "2. ProductId - unique identifier for the product\n",
    "3. UserId - unqiue identifier for the user\n",
    "4. ProfileName\n",
    "5. HelpfulnessNumerator - number of users who found the review helpful\n",
    "6. HelpfulnessDenominator - number of users who indicated whether they found the review helpful or not\n",
    "7. Score - rating between 1 and 5\n",
    "8. Time - timestamp for the review\n",
    "9. Summary - brief summary of the review\n",
    "10. Text - text of the review\n",
    "\n",
    "\n",
    "#### Objective:\n",
    "Given a review, determine whether the review is positive (rating of 4 or 5) or negative (rating of 1 or 2).\n",
    "\n",
    "<br>\n",
    "[Q] How to determine if a review is positive or negative?<br>\n",
    "<br> \n",
    "[Ans] We could use Score/Rating. A rating of 4 or 5 can be cosnidered as a positive review. A rating of 1 or 2 can be considered as negative one. A review of rating 3 is considered nuetral and such reviews are ignored from our analysis. This is an approximate and proxy way of determining the polarity (positivity/negativity) of a review."
   ]
  },
  {
   "cell_type": "markdown",
   "id": "466b39fb-e0a0-4bea-8364-c19fdd1b701e",
   "metadata": {},
   "source": [
    "# Import Libraries"
   ]
  },
  {
   "cell_type": "code",
   "execution_count": 1,
   "id": "29988433-2fb6-48de-9313-3cc0a630bcc3",
   "metadata": {},
   "outputs": [],
   "source": [
    "%matplotlib inline\n",
    "import warnings\n",
    "warnings.filterwarnings(\"ignore\")\n",
    "\n",
    "import sqlite3\n",
    "import pandas as pd\n",
    "import numpy as np\n",
    "import nltk\n",
    "import string\n",
    "import matplotlib.pyplot as plt\n",
    "import seaborn as sns\n",
    "from nltk.stem.snowball import SnowballStemmer\n",
    "from bs4 import BeautifulSoup\n",
    "from sklearn.preprocessing import LabelEncoder\n",
    "from sklearn.model_selection import train_test_split\n",
    "from sklearn.linear_model import LogisticRegression\n",
    "from sklearn.neighbors import KNeighborsClassifier\n",
    "from sklearn.ensemble import RandomForestClassifier, GradientBoostingClassifier\n",
    "from sklearn.svm import SVC\n",
    "from sklearn.model_selection import RandomizedSearchCV\n",
    "from sklearn.preprocessing import StandardScaler\n",
    "from sklearn.pipeline import Pipeline\n",
    "from sklearn.metrics import classification_report, confusion_matrix, accuracy_score\n",
    "from sklearn.feature_extraction.text import TfidfTransformer\n",
    "from sklearn.feature_extraction.text import TfidfVectorizer\n",
    "from sklearn.feature_extraction.text import CountVectorizer\n",
    "import re\n",
    "from nltk.corpus import stopwords\n",
    "from nltk.stem import PorterStemmer\n",
    "from nltk.stem.wordnet import WordNetLemmatizer\n",
    "from gensim.models import Word2Vec\n",
    "from gensim.models import KeyedVectors\n",
    "import pickle\n"
   ]
  },
  {
   "cell_type": "markdown",
   "id": "6d4962f8-e628-44a9-96bd-dbca19017c91",
   "metadata": {
    "tags": []
   },
   "source": [
    "# Loading the Data\n",
    "\n",
    "The dataset is available in two forms\n",
    "\n",
    "1. .csv file\n",
    "2. SQLite Database\n",
    "I have to used the SQLITE dataset as it is easier to query the data and visualise the data efficiently."
   ]
  },
  {
   "cell_type": "code",
   "execution_count": 2,
   "id": "3cc72a01-d5bc-403f-90cc-a70558de277a",
   "metadata": {},
   "outputs": [
    {
     "name": "stdout",
     "output_type": "stream",
     "text": [
      "Number of data points in our data (50000, 10)\n"
     ]
    },
    {
     "data": {
      "text/html": [
       "<div>\n",
       "<style scoped>\n",
       "    .dataframe tbody tr th:only-of-type {\n",
       "        vertical-align: middle;\n",
       "    }\n",
       "\n",
       "    .dataframe tbody tr th {\n",
       "        vertical-align: top;\n",
       "    }\n",
       "\n",
       "    .dataframe thead th {\n",
       "        text-align: right;\n",
       "    }\n",
       "</style>\n",
       "<table border=\"1\" class=\"dataframe\">\n",
       "  <thead>\n",
       "    <tr style=\"text-align: right;\">\n",
       "      <th></th>\n",
       "      <th>Id</th>\n",
       "      <th>ProductId</th>\n",
       "      <th>UserId</th>\n",
       "      <th>ProfileName</th>\n",
       "      <th>HelpfulnessNumerator</th>\n",
       "      <th>HelpfulnessDenominator</th>\n",
       "      <th>Score</th>\n",
       "      <th>Time</th>\n",
       "      <th>Summary</th>\n",
       "      <th>Text</th>\n",
       "    </tr>\n",
       "  </thead>\n",
       "  <tbody>\n",
       "    <tr>\n",
       "      <th>0</th>\n",
       "      <td>1</td>\n",
       "      <td>B001E4KFG0</td>\n",
       "      <td>A3SGXH7AUHU8GW</td>\n",
       "      <td>delmartian</td>\n",
       "      <td>1</td>\n",
       "      <td>1</td>\n",
       "      <td>Positive</td>\n",
       "      <td>1303862400</td>\n",
       "      <td>Good Quality Dog Food</td>\n",
       "      <td>I have bought several of the Vitality canned d...</td>\n",
       "    </tr>\n",
       "    <tr>\n",
       "      <th>1</th>\n",
       "      <td>2</td>\n",
       "      <td>B00813GRG4</td>\n",
       "      <td>A1D87F6ZCVE5NK</td>\n",
       "      <td>dll pa</td>\n",
       "      <td>0</td>\n",
       "      <td>0</td>\n",
       "      <td>Negative</td>\n",
       "      <td>1346976000</td>\n",
       "      <td>Not as Advertised</td>\n",
       "      <td>Product arrived labeled as Jumbo Salted Peanut...</td>\n",
       "    </tr>\n",
       "    <tr>\n",
       "      <th>2</th>\n",
       "      <td>3</td>\n",
       "      <td>B000LQOCH0</td>\n",
       "      <td>ABXLMWJIXXAIN</td>\n",
       "      <td>Natalia Corres \"Natalia Corres\"</td>\n",
       "      <td>1</td>\n",
       "      <td>1</td>\n",
       "      <td>Positive</td>\n",
       "      <td>1219017600</td>\n",
       "      <td>\"Delight\" says it all</td>\n",
       "      <td>This is a confection that has been around a fe...</td>\n",
       "    </tr>\n",
       "    <tr>\n",
       "      <th>3</th>\n",
       "      <td>4</td>\n",
       "      <td>B000UA0QIQ</td>\n",
       "      <td>A395BORC6FGVXV</td>\n",
       "      <td>Karl</td>\n",
       "      <td>3</td>\n",
       "      <td>3</td>\n",
       "      <td>Negative</td>\n",
       "      <td>1307923200</td>\n",
       "      <td>Cough Medicine</td>\n",
       "      <td>If you are looking for the secret ingredient i...</td>\n",
       "    </tr>\n",
       "    <tr>\n",
       "      <th>4</th>\n",
       "      <td>5</td>\n",
       "      <td>B006K2ZZ7K</td>\n",
       "      <td>A1UQRSCLF8GW1T</td>\n",
       "      <td>Michael D. Bigham \"M. Wassir\"</td>\n",
       "      <td>0</td>\n",
       "      <td>0</td>\n",
       "      <td>Positive</td>\n",
       "      <td>1350777600</td>\n",
       "      <td>Great taffy</td>\n",
       "      <td>Great taffy at a great price.  There was a wid...</td>\n",
       "    </tr>\n",
       "  </tbody>\n",
       "</table>\n",
       "</div>"
      ],
      "text/plain": [
       "   Id   ProductId          UserId                      ProfileName  \\\n",
       "0   1  B001E4KFG0  A3SGXH7AUHU8GW                       delmartian   \n",
       "1   2  B00813GRG4  A1D87F6ZCVE5NK                           dll pa   \n",
       "2   3  B000LQOCH0   ABXLMWJIXXAIN  Natalia Corres \"Natalia Corres\"   \n",
       "3   4  B000UA0QIQ  A395BORC6FGVXV                             Karl   \n",
       "4   5  B006K2ZZ7K  A1UQRSCLF8GW1T    Michael D. Bigham \"M. Wassir\"   \n",
       "\n",
       "   HelpfulnessNumerator  HelpfulnessDenominator     Score        Time  \\\n",
       "0                     1                       1  Positive  1303862400   \n",
       "1                     0                       0  Negative  1346976000   \n",
       "2                     1                       1  Positive  1219017600   \n",
       "3                     3                       3  Negative  1307923200   \n",
       "4                     0                       0  Positive  1350777600   \n",
       "\n",
       "                 Summary                                               Text  \n",
       "0  Good Quality Dog Food  I have bought several of the Vitality canned d...  \n",
       "1      Not as Advertised  Product arrived labeled as Jumbo Salted Peanut...  \n",
       "2  \"Delight\" says it all  This is a confection that has been around a fe...  \n",
       "3         Cough Medicine  If you are looking for the secret ingredient i...  \n",
       "4            Great taffy  Great taffy at a great price.  There was a wid...  "
      ]
     },
     "execution_count": 2,
     "metadata": {},
     "output_type": "execute_result"
    }
   ],
   "source": [
    "connection = sqlite3.connect('database.sqlite')\n",
    "\n",
    "# filtering only positive and negative reviews . \n",
    "# not taking into consideration those reviews with Score=3\n",
    "\n",
    "filtered_data = pd.read_sql_query(\"\"\" SELECT * FROM Reviews WHERE Score != 3 LIMIT 50000\"\"\", connection) \n",
    "\n",
    "# partition reviews to positive and Negative data\n",
    "\n",
    "def partition(x):\n",
    "    if x < 3:\n",
    "        return 'Negative'\n",
    "    return 'Positive'\n",
    "\n",
    "#changing reviews with score less than 3 to be negative and score greater than 3 will be positive\n",
    "\n",
    "Score = filtered_data['Score']\n",
    "positiveNegative = Score.map(partition)\n",
    "filtered_data['Score'] = positiveNegative\n",
    "print(\"Number of data points in our data\", filtered_data.shape)\n",
    "filtered_data.head()\n"
   ]
  },
  {
   "cell_type": "markdown",
   "id": "9ba72818-f048-48ab-b38d-d63f8beaadeb",
   "metadata": {},
   "source": [
    "# Check For Duplicate"
   ]
  },
  {
   "cell_type": "code",
   "execution_count": 3,
   "id": "c70a1298-1d0b-4d9f-9f46-6e6be1824505",
   "metadata": {},
   "outputs": [
    {
     "data": {
      "text/plain": [
       "(46072, 10)"
      ]
     },
     "execution_count": 3,
     "metadata": {},
     "output_type": "execute_result"
    }
   ],
   "source": [
    "# First i will sort the data by ProductId\n",
    "\n",
    "sort_data = filtered_data.sort_values('ProductId', axis=0, ascending=False, kind='quicksort', na_position='last')\n",
    "\n",
    "# Drop Duplicate \n",
    "\n",
    "data = sort_data.drop_duplicates(subset={\"UserId\",\"ProfileName\",\"Time\",\"Text\"}, keep='first', inplace=False) #keep the first and remove the rest\n",
    "data.shape"
   ]
  },
  {
   "cell_type": "code",
   "execution_count": 4,
   "id": "9b92a0e0-4c9b-4621-9d3c-0ee9fa2bef5c",
   "metadata": {},
   "outputs": [
    {
     "data": {
      "text/plain": [
       "Positive    38480\n",
       "Negative     7592\n",
       "Name: Score, dtype: int64"
      ]
     },
     "execution_count": 4,
     "metadata": {},
     "output_type": "execute_result"
    }
   ],
   "source": [
    "data['Score'].value_counts()"
   ]
  },
  {
   "cell_type": "code",
   "execution_count": 5,
   "id": "c248c027-c215-4cc6-98d8-096848235887",
   "metadata": {},
   "outputs": [
    {
     "data": {
      "image/png": "[encoded data removed]",
      "text/plain": [
       "<Figure size 432x288 with 1 Axes>"
      ]
     },
     "metadata": {
      "needs_background": "light"
     },
     "output_type": "display_data"
    }
   ],
   "source": [
    "sns.countplot(x='Score', data=data)\n",
    "plt.title('Reviews Distribution')\n",
    "plt.show()"
   ]
  },
  {
   "cell_type": "markdown",
   "id": "ca2cb62c-8bb6-4275-90ef-d7fccd6d70d4",
   "metadata": {},
   "source": [
    "# Preprocessing Review Text\n",
    "\n",
    "1. Begin by removing the html tags or URL\n",
    "2. Remove any punctuations or limited set of special characters like , or . or # etc.\n",
    "3. Check if the word is made up of english letters and is not alpha-numeric\n",
    "4. Check to see if the length of the word is greater than 2 (as it was researched that there is no adjective in 2-letters)\n",
    "5. Convert the word to lowercase\n",
    "6. Remove Stopwords\n",
    "7. Finally Snowball Stemming the word (it was obsereved to be better than Porter Stemming)<br>"
   ]
  },
  {
   "cell_type": "code",
   "execution_count": 6,
   "id": "2249f615-4d16-4c2d-bb60-1ff387687131",
   "metadata": {},
   "outputs": [
    {
     "name": "stdout",
     "output_type": "stream",
     "text": [
      "This Trader Joe's product is good quality.  But buy it straight from TJ's.  This retailer selling this product for twice the price that TJ's sells it for is reprehensible.  Shame on you!\n",
      "==================================================\n",
      "This is my flavor, actually, this is the only flavor I've liked aside from the natural.  Obviously, 1/2 the folks here hated it, half loved it,  I'd recommend trying a variety pack or buying a single before commiting to a large volume purchase.  But hey, if you buy it and don't like it, feel free to send it my way.\n",
      "==================================================\n",
      "Since people can't seem to figure out that the reviews are for the products and not the companies delivering them, I've decided to write a review exclusively FOR THIS PRODUCT.<br /><br />Despite it's juvenile sounding name, this isn't a child's energy drink that's for sure.  Each tube packs about 42,000% the recommended daily dose of Vitamin B12.  The high from this is extremely stable and hasn't yet given me the jitters.  I feel very awake, alert, and clear headed.  I use it before a workout and several of the ingredients make it perfect for the gym.  The let down is probably the smoothest you'll find among energy drinks.  And if you feel a cold coming on, downing one of these may help tremendously.<br /><br />The name comes from the interaction the mix has with water.  You pour one vile into a 16-20 oz bottle of water and the stuff fizzes like crazy!  If you don't get the lid on fast enough, you'll quickly find there will be a mess!  I've found using a wide mouthed nalgene bottle is the best way to prevent these types of accidents.<br /><br />In addition to the massive amounts of Vitamin B12, it has a good amount of Vitamin C (500mg), Niacin (10mg), Vitamin B6 (2.5mg), Calcium (60mg), Magnesium (100mg), and Potassium (905mg).  It has almost every water soluble vitamin meaning that a lot of the excess that your body doesn't utilize, will be flushed through your kidneys.  With that being said, drink a lot of liquid with this and don't over use the product (company recommends no more than 3 a day) or the chance of getting kidney stones exists.<br /><br />It has a 317mg \"proprietary\" blend blend of L-Arginine, L-Taurine, Caffeine from guarana, Alpha-lipoic acid, Grape seed extract, Green tea leaf extract, Ginger root, and Ginseng root.  I don't know how much each compound contributes to the 317mg but they do acknowledge that 100mg of it is caffeine (about the same as a cup of coffee).<br /><br />There are multiple flavors but I'm partial to Grape and Orange Soda.  The flavors are very sweet and candy-like but they surprisingly have no sugar. 10 total Calories and only 2g Total Carb.<br /><br />This is an excellent product and recommend it over any other energy drink.\n",
      "==================================================\n",
      "This is pretty good canned meat. The sausage I used in dirty rice, the hamburger I used for taco salad, the chicken with wild rice, and the pork with stuffing. the turkey I gave to a neighbor because I don't eat it. The various meats are all pretty good quality and was enough for 3 large portions each can. There weren't large chunks of fat or gristle in any of the cans, which I've experienced plenty with some brands of canned meats. The proportion of liquids to meat was fair too, it's not one of those with a spoonful of meat and the rest is liquid either, though it does all need to be cooked and shrinks quite a bit due to high fat content in the meat. None of the meat was seasoned, at all. This is very helpful as the meat can be used with any flavoring. There is a mild \"spam\"-like texture and taste to the meats(but way better than spam any day), almost a brine or something, that's why I heavily seasoned it. Don't plan on frying anything in the fat from these meats, it gave everything a slightly rancid, soury taste...no idea why! Due to the higher calories and higher price, I will only stock this as emergency food. I will buy more for that reason.\n",
      "==================================================\n"
     ]
    }
   ],
   "source": [
    "# printing some random reviews\n",
    "sent_0 = data['Text'].values[2]\n",
    "print(sent_0)\n",
    "print(\"=\"*50)\n",
    "\n",
    "sent_1000 = data['Text'].values[1060]\n",
    "print(sent_1000)\n",
    "print(\"=\"*50)\n",
    "\n",
    "sent_1500 = data['Text'].values[1900]\n",
    "print(sent_1500)\n",
    "print(\"=\"*50)\n",
    "\n",
    "sent_4900 = data['Text'].values[4955]\n",
    "print(sent_4900)\n",
    "print(\"=\"*50)"
   ]
  },
  {
   "cell_type": "code",
   "execution_count": 7,
   "id": "9a655a41-8241-4469-900f-c0813e7abca2",
   "metadata": {},
   "outputs": [],
   "source": [
    "# Snowball stemmer for lemmtization\n",
    "stemmer = SnowballStemmer(\"english\")\n",
    "\n",
    "stopwords_set = set(stopwords.words('english'))\n",
    "\n",
    "def clean_text(text):\n",
    "    # 1. Remove HTML tags\n",
    "    text = BeautifulSoup(text, 'lxml').get_text()\n",
    "    \n",
    "    # 2. Remove punctuations and special characters\n",
    "    text = re.sub(r'[^\\w\\s]', ' ', text)\n",
    "    \n",
    "    # 3. Ensure the word is made up of english letters and is not alpha-numeric\n",
    "    text = re.sub(r'\\W*\\b\\w{1,2}\\b', ' ', text)\n",
    "    \n",
    "    # 4. Convert to lowercase\n",
    "    text = text.lower()\n",
    "    \n",
    "    # 5. Remove stopwords and words with 2 or less characters\n",
    "    words = [stemmer.stem(word) for word in text.split() if word not in stopwords_set and len(word) > 2]\n",
    "    \n",
    "    # 6. Join the words back into one string separated by space, \n",
    "    return ' '.join(words)\n",
    "\n",
    "data['Text'] = data['Text'].apply(clean_text)"
   ]
  },
  {
   "cell_type": "code",
   "execution_count": 8,
   "id": "f776caf3-7dbc-4c79-8b3a-bd884293a4ff",
   "metadata": {},
   "outputs": [
    {
     "name": "stdout",
     "output_type": "stream",
     "text": [
      "trader joe product good qualiti buy straight retail sell product twice price sell reprehens shame\n",
      "==================================================\n",
      "flavor actual flavor like asid natur obvious folk hate half love recommend tri varieti pack buy singl commit larg volum purchas hey buy like feel free send way\n",
      "==================================================\n",
      "sinc peopl seem figur review product compani deliv decid write review exclus product despit juvenil sound name child energi drink sure tube pack 000 recommend daili dose vitamin b12 high extrem stabl yet given jitter feel awak alert clear head use workout sever ingredi make perfect gym let probabl smoothest find among energi drink feel cold come down one may help tremend name come interact mix water pour one vile bottl water stuff fizz like crazi get lid fast enough quick find mess found use wide mouth nalgen bottl best way prevent type accid addit massiv amount vitamin b12 good amount vitamin 500mg niacin 10mg vitamin 5mg calcium 60mg magnesium 100mg potassium 905mg almost everi water solubl vitamin mean lot excess bodi util flush kidney said drink lot liquid use product compani recommend day chanc get kidney stone exist 317mg proprietari blend blend arginin taurin caffein guarana alpha lipoic acid grape seed extract green tea leaf extract ginger root ginseng root know much compound contribut 317mg acknowledg 100mg caffein cup coffe multipl flavor partial grape orang soda flavor sweet candi like surpris sugar total calori total carb excel product recommend energi drink\n",
      "==================================================\n",
      "pretti good can meat sausag use dirti rice hamburg use taco salad chicken wild rice pork stuf turkey gave neighbor eat various meat pretti good qualiti enough larg portion larg chunk fat gristl can experienc plenti brand can meat proport liquid meat fair one spoon meat rest liquid either though need cook shrink quit bit due high fat content meat none meat season help meat use flavor mild spam like textur tast meat way better spam day almost brine someth heavili season plan fri anyth fat meat gave everyth slight rancid souri tast idea due higher calori higher price stock emerg food buy reason\n",
      "==================================================\n"
     ]
    }
   ],
   "source": [
    "# printing the same  reviews after preprocessing\n",
    "sent_0 = data['Text'].values[2]\n",
    "print(sent_0)\n",
    "print(\"=\"*50)\n",
    "\n",
    "sent_1000 = data['Text'].values[1060]\n",
    "print(sent_1000)\n",
    "print(\"=\"*50)\n",
    "\n",
    "sent_1500 = data['Text'].values[1900]\n",
    "print(sent_1500)\n",
    "print(\"=\"*50)\n",
    "\n",
    "sent_4900 = data['Text'].values[4955]\n",
    "print(sent_4900)\n",
    "print(\"=\"*50)\n",
    "preprocessed_reviews = data['Text']"
   ]
  },
  {
   "cell_type": "markdown",
   "id": "25b9e193-3fc8-4ebd-aca7-eec78d69a425",
   "metadata": {},
   "source": [
    "# Featurization\n",
    "1. TF-IDF\n",
    "2. Word2Vec\n",
    "3. Avg W2v\n",
    "3. TF-IDF weighted W2v"
   ]
  },
  {
   "cell_type": "code",
   "execution_count": 9,
   "id": "36aaa42c-d648-40e4-9113-9470f582c4c4",
   "metadata": {},
   "outputs": [],
   "source": [
    "## First TF-IDF vectorizer\n",
    "tfidf_vectorizer = TfidfVectorizer(ngram_range=(1,2), min_df=10)\n",
    "\n",
    "tfidf_features = tfidf_vectorizer.fit_transform(preprocessed_reviews)"
   ]
  },
  {
   "cell_type": "code",
   "execution_count": 10,
   "id": "c59cca65-3f83-41fc-aca3-25a18ea0046b",
   "metadata": {},
   "outputs": [],
   "source": [
    "# Second train a Word2Vec model\n",
    "\n",
    "tokenized_sentences = preprocessed_reviews.apply(lambda x: x.split())\n",
    "\n",
    "w2v_model = Word2Vec(tokenized_sentences, vector_size=100, window=5, min_count=1)\n"
   ]
  },
  {
   "cell_type": "code",
   "execution_count": 11,
   "id": "357163cc-d954-4dc9-a9ac-959aeeeca5de",
   "metadata": {},
   "outputs": [],
   "source": [
    "# Third Avg W2v\n",
    "sentence_vectors = []\n",
    "\n",
    "for sentence in preprocessed_reviews:\n",
    "    word_vectors = []\n",
    "    \n",
    "    for word in sentence.split():\n",
    "        if word in w2v_model.wv:\n",
    "            # If the word is in the Word2Vec model's vocabulary, get its vector\n",
    "            word_vectors.append(w2v_model.wv[word])\n",
    "    \n",
    "    # If the sentence is not empty, average the word vectors to get the sentence vector\n",
    "    if len(word_vectors) > 0:\n",
    "        sentence_vectors.append(np.mean(word_vectors, axis=0))\n"
   ]
  },
  {
   "cell_type": "code",
   "execution_count": 12,
   "id": "0f9577aa-1173-4ca0-87e3-7cfa7e66ab53",
   "metadata": {},
   "outputs": [],
   "source": [
    "# Fourth TF-IDF weighted W2v It will talk a lot of time to run this cell.\n",
    "tfidf_w2v_vectors = []\n",
    "\n",
    "for sentence in preprocessed_reviews:\n",
    "    \n",
    "    word_vectors = []\n",
    "    weights = []\n",
    "    \n",
    "    # Iterate through each word in the sentence\n",
    "    for word in sentence.split():\n",
    "        if word in w2v_model.wv and word in tfidf_vectorizer.vocabulary_:\n",
    "            # If the word is in the Word2Vec model's vocabulary and the TF-IDF vectorizer's vocabulary,\n",
    "            # get its vector and its TF-IDF weight\n",
    "            word_vectors.append(w2v_model.wv[word])\n",
    "            weights.append(tfidf_vectorizer.idf_[tfidf_vectorizer.vocabulary_[word]])\n",
    "    \n",
    "    # If the sentence is not empty, average the word vectors, weighted by the TF-IDF weights,\n",
    "    # to get the sentence vector\n",
    "    if len(word_vectors) > 0:\n",
    "        tfidf_w2v_vectors.append(np.average(word_vectors, weights=weights, axis=0))"
   ]
  },
  {
   "cell_type": "markdown",
   "id": "341bbf3d-e63b-4e03-9e45-0079dc9cb7c4",
   "metadata": {},
   "source": [
    "# Encoding The Score Using Labelencoding\n"
   ]
  },
  {
   "cell_type": "code",
   "execution_count": 13,
   "id": "7954254f-0e1e-41cd-9573-7c6a9e857ad9",
   "metadata": {},
   "outputs": [],
   "source": [
    "le = LabelEncoder()\n",
    "data['Score'] = le.fit_transform(data['Score'])"
   ]
  },
  {
   "cell_type": "markdown",
   "id": "545b062d-1bca-4cfd-8556-0ca99d57fbee",
   "metadata": {},
   "source": [
    "# Split The Data into 80:20 Using Train Test Split "
   ]
  },
  {
   "cell_type": "code",
   "execution_count": 15,
   "id": "4b1ee045-576d-4112-a7ba-90da28d9dd04",
   "metadata": {},
   "outputs": [],
   "source": [
    "x = tfidf_w2v_vectors\n",
    "y = data['Score']\n",
    "x_train, x_test, y_train, y_test = train_test_split(x, y, test_size=0.2, random_state=42)\n"
   ]
  },
  {
   "cell_type": "markdown",
   "id": "9e07e9a7-742b-480b-8db4-679049a6772f",
   "metadata": {},
   "source": [
    "# Applied Machine Learning Algorithms With hyperparameters Tuning Using (RandomizedSearchCV).\n",
    "\n",
    "1. LogisticRegression\n",
    "2. KNeighborsClassifier\n",
    "3. RandomForestClassifier\n",
    "4. GradientBoostingClassifier\n",
    "5. SVC\n",
    "6. MultinomialNB\n"
   ]
  },
  {
   "cell_type": "code",
   "execution_count": 20,
   "id": "ededd756-2225-45c0-82d3-042db888e256",
   "metadata": {
    "tags": []
   },
   "outputs": [
    {
     "name": "stdout",
     "output_type": "stream",
     "text": [
      "Model: LogisticRegression\n",
      "Best Parameters: {'classifier__penalty': 'l2', 'classifier__C': 10}\n",
      "Classification Report:               precision    recall  f1-score   support\n",
      "\n",
      "           0       0.74      0.50      0.60      1525\n",
      "           1       0.91      0.96      0.93      7690\n",
      "\n",
      "    accuracy                           0.89      9215\n",
      "   macro avg       0.82      0.73      0.77      9215\n",
      "weighted avg       0.88      0.89      0.88      9215\n",
      "\n"
     ]
    },
    {
     "data": {
      "image/png": "[encoded data removed]",
      "text/plain": [
       "<Figure size 360x360 with 2 Axes>"
      ]
     },
     "metadata": {
      "needs_background": "light"
     },
     "output_type": "display_data"
    },
    {
     "name": "stdout",
     "output_type": "stream",
     "text": [
      "Model: KNeighborsClassifier\n",
      "Best Parameters: {'classifier__n_neighbors': 12, 'classifier__metric': 'euclidean'}\n",
      "Classification Report:               precision    recall  f1-score   support\n",
      "\n",
      "           0       0.70      0.41      0.52      1525\n",
      "           1       0.89      0.97      0.93      7690\n",
      "\n",
      "    accuracy                           0.87      9215\n",
      "   macro avg       0.80      0.69      0.72      9215\n",
      "weighted avg       0.86      0.87      0.86      9215\n",
      "\n"
     ]
    },
    {
     "data": {
      "image/png": "[encoded data removed]",
      "text/plain": [
       "<Figure size 360x360 with 2 Axes>"
      ]
     },
     "metadata": {
      "needs_background": "light"
     },
     "output_type": "display_data"
    },
    {
     "name": "stdout",
     "output_type": "stream",
     "text": [
      "Model: RandomForestClassifier\n",
      "Best Parameters: {'classifier__n_estimators': 200, 'classifier__max_depth': None}\n",
      "Classification Report:               precision    recall  f1-score   support\n",
      "\n",
      "           0       0.79      0.34      0.48      1525\n",
      "           1       0.88      0.98      0.93      7690\n",
      "\n",
      "    accuracy                           0.88      9215\n",
      "   macro avg       0.84      0.66      0.70      9215\n",
      "weighted avg       0.87      0.88      0.86      9215\n",
      "\n"
     ]
    },
    {
     "data": {
      "image/png": "[encoded data removed]",
      "text/plain": [
       "<Figure size 360x360 with 2 Axes>"
      ]
     },
     "metadata": {
      "needs_background": "light"
     },
     "output_type": "display_data"
    },
    {
     "name": "stdout",
     "output_type": "stream",
     "text": [
      "Model: GradientBoostingClassifier\n",
      "Best Parameters: {'classifier__n_estimators': 200, 'classifier__max_depth': 7, 'classifier__learning_rate': 0.1}\n",
      "Classification Report:               precision    recall  f1-score   support\n",
      "\n",
      "           0       0.74      0.51      0.60      1525\n",
      "           1       0.91      0.96      0.94      7690\n",
      "\n",
      "    accuracy                           0.89      9215\n",
      "   macro avg       0.82      0.74      0.77      9215\n",
      "weighted avg       0.88      0.89      0.88      9215\n",
      "\n"
     ]
    },
    {
     "data": {
      "image/png": "[encoded data removed]",
      "text/plain": [
       "<Figure size 360x360 with 2 Axes>"
      ]
     },
     "metadata": {
      "needs_background": "light"
     },
     "output_type": "display_data"
    },
    {
     "name": "stdout",
     "output_type": "stream",
     "text": [
      "Model: SVC\n",
      "Best Parameters: {'classifier__kernel': 'rbf', 'classifier__gamma': 0.01, 'classifier__C': 10}\n",
      "Classification Report:               precision    recall  f1-score   support\n",
      "\n",
      "           0       0.72      0.58      0.64      1525\n",
      "           1       0.92      0.96      0.94      7690\n",
      "\n",
      "    accuracy                           0.89      9215\n",
      "   macro avg       0.82      0.77      0.79      9215\n",
      "weighted avg       0.89      0.89      0.89      9215\n",
      "\n"
     ]
    },
    {
     "data": {
      "image/png": "[encoded data removed]",
      "text/plain": [
       "<Figure size 360x360 with 2 Axes>"
      ]
     },
     "metadata": {
      "needs_background": "light"
     },
     "output_type": "display_data"
    }
   ],
   "source": [
    "models = {\n",
    "    'LogisticRegression': LogisticRegression(),\n",
    "    'KNeighborsClassifier': KNeighborsClassifier(),\n",
    "    'RandomForestClassifier': RandomForestClassifier(),\n",
    "    'GradientBoostingClassifier': GradientBoostingClassifier(),\n",
    "    'SVC': SVC()\n",
    "}\n",
    "\n",
    "#hyperparameters\n",
    "hyperparameters = {\n",
    "    'LogisticRegression': {\n",
    "        'classifier__C': [0.001, 0.01, 0.1, 1, 10, 100],\n",
    "        'classifier__penalty': ['l1', 'l2'],\n",
    "    },\n",
    "    'KNeighborsClassifier': {\n",
    "        'classifier__n_neighbors': list(range(1, 31)),\n",
    "        'classifier__metric': ['euclidean', 'manhattan']\n",
    "    },\n",
    "    'RandomForestClassifier': {\n",
    "        'classifier__n_estimators': [50, 100, 200],\n",
    "        'classifier__max_depth': [None, 30, 15, 5],\n",
    "    },\n",
    "    'GradientBoostingClassifier': {\n",
    "        'classifier__n_estimators': [50, 100, 200],\n",
    "        'classifier__learning_rate': [0.01, 0.1, 1],\n",
    "        'classifier__max_depth': [3, 5, 7]\n",
    "    },\n",
    "    'SVC': {\n",
    "        'classifier__C': [0.1, 1, 10, 100], \n",
    "        'classifier__gamma': [1, 0.1, 0.01, 0.001],\n",
    "        'classifier__kernel': ['rbf', 'poly', 'sigmoid']\n",
    "    }\n",
    "}\n",
    "\n",
    "best_score = 0\n",
    "best_model_name = ''\n",
    "\n",
    "for model in models.keys():\n",
    "    pipeline = Pipeline([\n",
    "        ('scaler', StandardScaler(with_mean=False)),\n",
    "        ('classifier', models[model])\n",
    "    ])\n",
    "    \n",
    "    #  Randomized search \n",
    "    clf = RandomizedSearchCV(pipeline, hyperparameters[model], n_iter=10, cv=5, random_state=0)\n",
    "    clf.fit(x_train, y_train)\n",
    "    \n",
    "    # Keep track of the model with the best score\n",
    "    if clf.best_score_ > best_score:\n",
    "        best_score = clf.best_score_\n",
    "        best_model_name = model\n",
    "        best_params[best_model_name] = clf.best_params_\n",
    "    \n",
    "    y_pred = clf.predict(x_test)\n",
    "    \n",
    "    print(f'Model: {model}')\n",
    "    print('Best Parameters:', clf.best_params_)\n",
    "    print('Classification Report:', classification_report(y_test, y_pred))\n",
    "    \n",
    "    # plot confusion matrix\n",
    "    cm = confusion_matrix(y_test, y_pred)\n",
    "    plt.figure(figsize=(5, 5))\n",
    "    sns.heatmap(cm, annot=True, fmt='d', cmap='Blues')\n",
    "    plt.title(f'Confusion Matrix for {model}')\n",
    "    plt.xlabel('Predicted')\n",
    "    plt.ylabel('True')\n",
    "    plt.show()  \n",
    "    \n",
    "    # Break the loop if the accuracy is above a certain threshold\n",
    "    if best_score > 0.95:\n",
    "        print(f'Stopping search: {best_model_name} reached accuracy > 95%')\n",
    "        break"
   ]
  },
  {
   "cell_type": "markdown",
   "id": "6a42788e-759c-474e-a860-45e533278a0d",
   "metadata": {},
   "source": [
    "# Save The Model in Pickle File"
   ]
  },
  {
   "cell_type": "code",
   "execution_count": null,
   "id": "f541fbaf-7314-41aa-88c8-afd00caa829a",
   "metadata": {},
   "outputs": [],
   "source": [
    "# save the final model into a pickle file\n",
    "final_model_rf = RandomForestClassifier(n_estimators=200, max_depth=None)\n",
    "final_model_rf.fit(x_train, y_train)\n",
    "\n",
    "with open('final_model.pkl', 'wb') as f:\n",
    "    pickle.dump(final_model_rf, f)\n"
   ]
  },
  {
   "cell_type": "markdown",
   "id": "c6f6421c-4704-4fbf-b368-4eaa637b686e",
   "metadata": {},
   "source": [
    "# Copy Write By Mostafa Themar"
   ]
  }
 ],
 "metadata": {
  "kernelspec": {
   "display_name": "Python 3 (ipykernel)",
   "language": "python",
   "name": "python3"
  },
  "language_info": {
   "codemirror_mode": {
    "name": "ipython",
    "version": 3
   },
   "file_extension": ".py",
   "mimetype": "text/x-python",
   "name": "python",
   "nbconvert_exporter": "python",
   "pygments_lexer": "ipython3",
   "version": "3.9.12"
  },
  "toc-autonumbering": true,
  "toc-showcode": false,
  "toc-showmarkdowntxt": false,
  "toc-showtags": false
 },
 "nbformat": 4,
 "nbformat_minor": 5
}
